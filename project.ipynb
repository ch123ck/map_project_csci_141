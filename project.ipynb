{
 "cells": [
  {
   "cell_type": "markdown",
   "metadata": {},
   "source": [
    "<img src=\"http://www.cs.wm.edu/~rml/images/wm_horizontal_single_line_full_color.png\">\n",
    "\n",
    "<h1 style=\"text-align:center;\">CSCI 141, Fall 2020</h1>\n",
    "<h1 style=\"text-align:center;\">Creating maps with folium</h1>"
   ]
  },
  {
   "cell_type": "markdown",
   "metadata": {},
   "source": [
    "# Contents:\n",
    "* [Building maps](#maps)\n",
    "* [A simple map](#simple_map)\n",
    "* [An earthquake map](#earthquake_map)\n",
    "* [The project](#project)"
   ]
  },
  {
   "cell_type": "markdown",
   "metadata": {},
   "source": [
    "One of the great strengths of Python is its enormous software ecosystem which makes it possible to do interesting things without having to write lots of code. \n",
    "\n",
    "This example uses the following Python module:\n",
    "* [folium](https://github.com/python-visualization/folium/blob/master/README.rst), a map-making library.\n",
    "\n",
    "First we need to install the folium module.  The following cell only needs to be executed once.\n",
    "\n",
    "This may take a few seconds&hellip;"
   ]
  },
  {
   "cell_type": "code",
   "execution_count": null,
   "metadata": {
    "scrolled": false
   },
   "outputs": [],
   "source": [
    "# This cell need only be executed once.  It will install the folium package, \n",
    "# which is not part of Anaconda.\n",
    "\n",
    "# pip is the standard utility for installing/updating/... Python modules.\n",
    "\n",
    "!pip install folium"
   ]
  },
  {
   "cell_type": "markdown",
   "metadata": {},
   "source": [
    "# A simple map <a id=\"simple_map\"/>\n",
    "\n",
    "Let's draw a map that opens on the center of the universe.  The <code>location</code> argument indicates the center of the map."
   ]
  },
  {
   "cell_type": "code",
   "execution_count": null,
   "metadata": {
    "scrolled": false
   },
   "outputs": [],
   "source": [
    "import folium\n",
    "wm = folium.Map(location=[37.270833, -76.709167], zoom_start=17)\n",
    "wm"
   ]
  },
  {
   "cell_type": "markdown",
   "metadata": {},
   "source": [
    "This illustrates the power of the Python software ecosystem &ndash; with three lines of code we're done.\n",
    "\n",
    "You can zoom in and out, and a left click allows you to drag the map to another location.\n",
    "\n",
    "Now we'll use a little Jupyter/HTML magic to add a title.  First we save the map to an [HTML](https://en.wikipedia.org/wiki/HTML) file:"
   ]
  },
  {
   "cell_type": "code",
   "execution_count": null,
   "metadata": {},
   "outputs": [],
   "source": [
    "wm.save('wm.html')"
   ]
  },
  {
   "cell_type": "markdown",
   "metadata": {},
   "source": [
    "The <code>%%HTML</code> in the next cell indicates that this is to be interpreted as HTML rather than Python or markup language.  The HTML <code>&lt;iframe&gt;</code> tag allows us to embed on webpage in another."
   ]
  },
  {
   "cell_type": "code",
   "execution_count": null,
   "metadata": {
    "scrolled": false
   },
   "outputs": [],
   "source": [
    "%%HTML\n",
    "<h1>Our first map</h1> \n",
    "<iframe width=\"100%\" height=\"500\" src=\"wm.html\"></iframe>"
   ]
  },
  {
   "cell_type": "markdown",
   "metadata": {},
   "source": [
    "We can also annotate the map with pins and specify text that appears when the pin is clicked on:"
   ]
  },
  {
   "cell_type": "code",
   "execution_count": null,
   "metadata": {
    "scrolled": false
   },
   "outputs": [],
   "source": [
    "wm = folium.Map(location=[37.270833, -76.709167], zoom_start=17)\n",
    "\n",
    "lat =   37 + 16/60 + 14.80/3600  # Convert minutes and seconds to decimal latitude\n",
    "lon = -(76 + 42/60 + 32.23/3600) # and longitude.\n",
    "folium.Marker(location=[lat, lon], popup='Wren Building',\n",
    "              icon=folium.Icon(icon='university', prefix='fa')).add_to(wm)  \n",
    "\n",
    "lat =   37 + 16/60 + 12.50/3600\n",
    "lon = -(76 + 42/60 + 42.50/3600)\n",
    "folium.Marker(location=[lat, lon], popup='The dumpy home of CS', \n",
    "              icon=folium.Icon(icon='desktop', prefix='fa')).add_to(wm)\n",
    "\n",
    "lat =   37 + 16/60 + 14.80/3600  # Convert minutes and seconds to decimal latitude\n",
    "lon = -(76 + 42/60 + 39/3600) # and longitude.\n",
    "folium.Marker(location=[lat, lon], popup='Sunken Garden', tooltip='Sunken Garden').add_to(wm) \n",
    "\n",
    "wm"
   ]
  },
  {
   "cell_type": "markdown",
   "metadata": {},
   "source": [
    "# Building an earthquake map <a id=\"earthquake_map\"/>\n",
    "\n",
    "The next example downloads data from the United States Geological Survey (USGS) to map the location and intensity of all earthquakes recorded world-wide in the past 24 hours.\n",
    "\n",
    "This example is based on\n",
    "* [https://blog.dominodatalab.com/lesser-known-ways-of-using-notebooks](https://blog.dominodatalab.com/lesser-known-ways-of-using-notebooks)"
   ]
  },
  {
   "cell_type": "code",
   "execution_count": null,
   "metadata": {
    "scrolled": false
   },
   "outputs": [],
   "source": [
    "import pandas as pd  # Pandas data analysis package.\n",
    "from matplotlib.colors import Normalize, rgb2hex  # Matplotlib plotting package.\n",
    "import matplotlib.cm as cm  # A color manager."
   ]
  },
  {
   "cell_type": "markdown",
   "metadata": {},
   "source": [
    "First we read the data file from the USGS website.  The USGS updates this file every 5 minutes."
   ]
  },
  {
   "cell_type": "code",
   "execution_count": null,
   "metadata": {
    "scrolled": false
   },
   "outputs": [],
   "source": [
    "eq = pd.read_csv('http://earthquake.usgs.gov/earthquakes/feed/v1.0/summary/all_day.csv')"
   ]
  },
  {
   "cell_type": "markdown",
   "metadata": {},
   "source": [
    "This reads the file from the web as a Pandas **dataframe**.  Let's take a look at the first few entries."
   ]
  },
  {
   "cell_type": "code",
   "execution_count": null,
   "metadata": {
    "scrolled": false
   },
   "outputs": [],
   "source": [
    "# Note the column headers. \n",
    "eq.head()"
   ]
  },
  {
   "cell_type": "markdown",
   "metadata": {},
   "source": [
    "We can refer to the columns using the header as a key:"
   ]
  },
  {
   "cell_type": "code",
   "execution_count": null,
   "metadata": {
    "scrolled": false
   },
   "outputs": [],
   "source": [
    "print(eq['mag'])\n",
    "print(eq['place'])"
   ]
  },
  {
   "cell_type": "markdown",
   "metadata": {},
   "source": [
    "We can restrict attention to rows where some condition is satisfied.\n",
    "\n",
    "For example, it is possible to have [negative magnitude earthquakes](https://www.usgs.gov/faqs/how-can-earthquake-have-a-negative-magnitude?qt-news_science_products=0#qt-news_science_products).  We can extract any of those as follows:"
   ]
  },
  {
   "cell_type": "code",
   "execution_count": null,
   "metadata": {
    "scrolled": true
   },
   "outputs": [],
   "source": [
    "eq[eq['mag'] < 0]"
   ]
  },
  {
   "cell_type": "markdown",
   "metadata": {},
   "source": [
    "This should be read as \"show the rows of eq where the magnitude is negative\"."
   ]
  },
  {
   "cell_type": "markdown",
   "metadata": {},
   "source": [
    "We can iterate over the rows as follows.  Note that the items we are iterating over are a tuple.  The first element is the row number, and the second is the actual row data.  If you see any Nans this is because Pandas uses the not-a-number float value if a field is empty in the CSV."
   ]
  },
  {
   "cell_type": "code",
   "execution_count": null,
   "metadata": {
    "scrolled": true
   },
   "outputs": [],
   "source": [
    "for quake in eq.iterrows():\n",
    "    print(quake)"
   ]
  },
  {
   "cell_type": "markdown",
   "metadata": {},
   "source": [
    "Let's turn this data into a map.\n",
    "\n",
    "We create circles on the map for each earthquake.  Each circle is centered on the earthquake's epicenter, and the size and color of the circle reflect the earthquake's magnitude.  We set things up so that clicking on a circle reveals the location and magnitude.\n",
    "\n",
    "The resulting map is written to the file <code>earthquake.html</code>."
   ]
  },
  {
   "cell_type": "code",
   "execution_count": null,
   "metadata": {
    "scrolled": false
   },
   "outputs": [],
   "source": [
    "from folium.plugins import MarkerCluster\n",
    "\n",
    "norm = Normalize(eq['mag'].min(), eq['mag'].max())  # Build a function to normalize the data.\n",
    "\n",
    "eq_map = folium.Map(location=[48, -102], zoom_start=1)  # Zoom all the way out to see Earth.\n",
    "\n",
    "# Iterate over the earthquakes.\n",
    "print('generating map...', end='')\n",
    "for qk in eq.iterrows():\n",
    "    color = rgb2hex(cm.OrRd(norm(float(qk[1]['mag']))))\n",
    "    folium.CircleMarker([qk[1]['latitude'], qk[1]['longitude']], \n",
    "                        popup=f\"{qk[1]['place']} magnitude: {qk[1]['mag']}\",\n",
    "                        radius=2*float(qk[1]['mag']),\n",
    "                        color=color,\n",
    "                        fill_color=color).add_to(eq_map)\n",
    "print('done!')\n",
    "eq_map.save(outfile='earthquake.html')\n",
    "eq_map"
   ]
  },
  {
   "cell_type": "markdown",
   "metadata": {},
   "source": [
    "We can also cluster markers together, which is useful if there are a large number of them.  Clicking on a cluster or zooming in splits the cluster into smaller units; zooming out causes clusters to agglomerate."
   ]
  },
  {
   "cell_type": "code",
   "execution_count": null,
   "metadata": {
    "scrolled": true
   },
   "outputs": [],
   "source": [
    "from folium.plugins import MarkerCluster\n",
    "\n",
    "norm = Normalize(eq['mag'].min(), eq['mag'].max())\n",
    "\n",
    "eq_map = folium.Map(location=[48, -102], zoom_start=1)\n",
    "eq_cluster = MarkerCluster().add_to(eq_map)\n",
    "\n",
    "# Iterate over the earthquakes.\n",
    "print('generating map...', end='')\n",
    "for qk in eq.iterrows():\n",
    "    color = rgb2hex(cm.OrRd(norm(float(qk[1]['mag']))))\n",
    "    folium.CircleMarker([qk[1]['latitude'], qk[1]['longitude']], \n",
    "                        popup=f\"{qk[1]['place']} magnitude: {qk[1]['mag']}\",\n",
    "                        radius=2*float(qk[1]['mag']),\n",
    "                        color=color,\n",
    "                        fill_color=color).add_to(eq_cluster)\n",
    "print('done!')\n",
    "# Save the map.    \n",
    "# eq_map.save(outfile='earthquake.html')\n",
    "eq_map"
   ]
  },
  {
   "cell_type": "markdown",
   "metadata": {},
   "source": [
    "Next, let's combine these two constructions.  This makes the code easier to maintain and keep consistent."
   ]
  },
  {
   "cell_type": "code",
   "execution_count": null,
   "metadata": {
    "scrolled": false
   },
   "outputs": [],
   "source": [
    "norm = Normalize(eq['mag'].min(), eq['mag'].max())\n",
    "\n",
    "eq_map = []\n",
    "for i in range(2):\n",
    "    eq_map.append(folium.Map(location=[48, -102], zoom_start=1))\n",
    "eq_cluster = MarkerCluster().add_to(eq_map[1])\n",
    "\n",
    "targets = [eq_map[0], eq_cluster]  # Build a map without and with marker clusters.\n",
    "\n",
    "# Iterate over the earthquakes.\n",
    "print('generating map...', end='')\n",
    "for target in targets:\n",
    "    for qk in eq.iterrows():\n",
    "        color = rgb2hex(cm.OrRd(norm(float(qk[1]['mag']))))\n",
    "        folium.CircleMarker([qk[1]['latitude'], qk[1]['longitude']], \n",
    "                        popup=f\"{qk[1]['place']} magnitude: {qk[1]['mag']}\",\n",
    "                        radius=2*float(qk[1]['mag']),\n",
    "                        color=color,\n",
    "                        fill_color=color).add_to(target)\n",
    "print('done!')"
   ]
  },
  {
   "cell_type": "markdown",
   "metadata": {},
   "source": [
    "First, the map without marker clusters:"
   ]
  },
  {
   "cell_type": "code",
   "execution_count": null,
   "metadata": {
    "scrolled": false
   },
   "outputs": [],
   "source": [
    "eq_map[0]"
   ]
  },
  {
   "cell_type": "markdown",
   "metadata": {},
   "source": [
    "Second, the map with marker clusters:"
   ]
  },
  {
   "cell_type": "code",
   "execution_count": null,
   "metadata": {
    "scrolled": true
   },
   "outputs": [],
   "source": [
    "eq_map[1]"
   ]
  },
  {
   "cell_type": "markdown",
   "metadata": {},
   "source": [
    "# The project (with solution) <a id=\"project\"/>"
   ]
  },
  {
   "cell_type": "markdown",
   "metadata": {},
   "source": [
    "In this project you will create a Jupyter notebook named <code>awois.ipynb</code> that maps the data in [NOAA's Automated Wreck and Obstruction Information System (AWOIS)](https://www.nauticalcharts.noaa.gov/data/wrecks-and-obstructions.html).  AWOIS\n",
    "<blockquote>\n",
    "contains information on over 10,000 submerged wrecks and obstructions in the coastal waters of the United States. Information includes latitude and longitude of each feature along with brief historic and descriptive details.\n",
    "</blockquote>"
   ]
  },
  {
   "cell_type": "markdown",
   "metadata": {},
   "source": [
    "## The data\n",
    "\n",
    "Your notebook should use the Pandas [<code>read_csv()</code> function](https://pandas.pydata.org/pandas-docs/stable/reference/api/pandas.read_csv.html) to read the data from [http://www.cs.wm.edu/~rml/teaching/csci141/data/AWOIS_Wrecks.csv](http://www.cs.wm.edu/~rml/teaching/csci141/data/AWOIS_Wrecks.csv) into a Pandas dataframe.\n",
    "\n",
    "You will need to pass the argument <code>encoding='cp1252'</code> to <code>read_csv()</code>.  This CSV file contains non-ascii characters (e.g., &#176;) and you'll encounter an error if you do not specify this encoding, which is [an old encoding used by Microsoft for Western European languages](https://en.wikipedia.org/wiki/Windows-1252)."
   ]
  },
  {
   "cell_type": "code",
   "execution_count": null,
   "metadata": {
    "scrolled": false
   },
   "outputs": [],
   "source": [
    "import folium\n",
    "import pandas as pd\n",
    "\n",
    "wrecks = pd.read_csv('http://www.cs.wm.edu/~rml/teaching/csci141/data/AWOIS_Wrecks.csv', encoding='cp1252')  # Windows 1252 encoding.\n",
    "\n",
    "print(wrecks.columns)"
   ]
  },
  {
   "cell_type": "markdown",
   "metadata": {},
   "source": [
    "The names of the columns in this file are \n",
    "<pre>\n",
    "'RECRD', 'VESSLTERMS', 'FEATURE_TYPE', 'LATDEC', 'LONDEC', 'GP_QUALITY',\n",
    "'DEPTH', 'SOUNDING_TYPE', 'YEARSUNK', 'HISTORY'\n",
    "</pre>\n",
    "These are described in the [AWOIS User's Guide](http://www.cs.wm.edu/~rml/teaching/csci141/data/awois-users-guide-2013.pdf)."
   ]
  },
  {
   "cell_type": "markdown",
   "metadata": {},
   "source": [
    "You should spend some time looking at the dataframe so you understand how it is organized."
   ]
  },
  {
   "cell_type": "markdown",
   "metadata": {},
   "source": [
    "## Map 1: without clusters\n",
    "\n",
    "Your map should map all of the wrecks in the AWOIS database.\n",
    "* Center the map on 37N, -76W, which is the mouth of Hampton Roads.\n",
    "* Use <code>folium.Marker</code> to indicate the wrecks.\n",
    "* Use the latitude and longitude of a wreck to map it.\n",
    "* The <code>popup</code> argument for each marker should be the wreck's <code>VESSLTERMS</code> attribute followed by the wreck's <code>FEATURE_TYPE</code> attribute (you'll need to combine these in a single string).\n",
    "\n",
    "Because there are thousands of markers on this map, it will likely take several seconds to display."
   ]
  },
  {
   "cell_type": "code",
   "execution_count": null,
   "metadata": {},
   "outputs": [],
   "source": [
    "  "
   ]
  },
  {
   "cell_type": "markdown",
   "metadata": {},
   "source": [
    "## Map 2: with clusters\n",
    "\n",
    "This map is almost identical to the previous map, only with the markers organized using <code>folium.MarkerCluster</code>."
   ]
  },
  {
   "cell_type": "code",
   "execution_count": null,
   "metadata": {},
   "outputs": [],
   "source": [
    " "
   ]
  },
  {
   "cell_type": "markdown",
   "metadata": {},
   "source": [
    "## Map 3: ships sunk by submarines\n",
    "\n",
    "During the First and Second World Wars, hundreds of ships were sunk in the Gulf of Mexico and off the Atlantic coast of the US by German submarines.  The worst time near the US coast was the first half of 1942; [this list from Wikipedia shows how bad it was](https://en.wikipedia.org/wiki/Second_Happy_Time#Chronology_of_attacks).\n",
    "\n",
    "This map will indicate ships sunk by submarines with a red marker with an anchor icon.  You can add an anchor icon by passing the argument\n",
    "<pre>\n",
    "icon=folium.Icon(color='red',prefix='fa',icon='anchor')\n",
    "</pre>\n",
    "to <code>folium.Marker</code>.  The prefix <code>'fa'</code> stands for [Font Awesome](https://fontawesome.com/icons?d=gallery&m=free)."
   ]
  },
  {
   "cell_type": "markdown",
   "metadata": {},
   "source": [
    "### Finding the ships using regular expressions\n",
    "\n",
    "Determining whether a ship was sunk by a submarine is a bit of a challenge.  There is a notation in the <code>HISTORY</code> field, but it varies.  Here are some examples:\n",
    "<pre>\n",
    "SUNK 10/6/42 BY SUBMARINE\n",
    "SUNK 1942 BY SUBMARINE\n",
    "SUNK 6/2/18 BY GERMAN SUBMARINE\n",
    "</pre>\n",
    "Moreover, we cannot find these simply by searching for <code>SUNK</code> because of strings like this:\n",
    "<pre>\n",
    "96 FT TUG, SUNK IN APPROX. 72 FT OF WATER\n",
    "</pre>\n",
    "nor can we find them by searching for <code>SUBMARINE</code> (or both words) because of strings like this:\n",
    "<pre>\n",
    "SUBMARINE, 740 GT; SUNK 6/2/43\n",
    "</pre>"
   ]
  },
  {
   "cell_type": "markdown",
   "metadata": {},
   "source": [
    "This is where we can use [**regular expressions**](https://xkcd.com/208/) (**regex** or **regexp** for short).  Regular expressions are a way of expressing a pattern to search for.  We will look at them in greater depth later, but here is how we can use them here.\n",
    "\n",
    "A perusal of the file reveals all of the references to ships sunk by submarines have the form\n",
    "<pre>\n",
    "SUNK (date) BY (zero or one word) SUBMARINE\n",
    "</pre>\n",
    "We can capture this with the regex\n",
    "<pre>\n",
    "SUNK.+BY.+SUBMARINE\n",
    "</pre>\n",
    "In this context, <code>.+</code> means \"one or more characters of any type\".  We could be more precise in specifying the pattern, but this will suffice for our purposes.\n",
    "\n",
    "Now we will use Python's [<code>re</code> module](https://docs.python.org/3/library/re.html)."
   ]
  },
  {
   "cell_type": "code",
   "execution_count": null,
   "metadata": {
    "scrolled": true
   },
   "outputs": [],
   "source": [
    "import re\n",
    "\n",
    "# Construct the search engine for our pattern.\n",
    "p = re.compile('SUNK.+ BY.+SUBMARINE')\n",
    "\n",
    "# Here are some strings to search.\n",
    "lines = ['(SOURCE UNK); POSITION ACCURACY 1 MILE; WD CLEAR TO 36 FT REPORTED'\n",
    "         'NO.1596; TRAWLER; POSITION ACCURACY WITHIN 1 MILE.',\n",
    "         'NO.436; POSITION ACCURACY WITHIN 1 MILE AT 35-13-30N, 75-11-42W;',\n",
    "         'NO.1633; POSITION ACCURACY WITHIN 1 MILE',\n",
    "         'NO.4623; CARGO, 7874 GT,SUNK 3/7/42 BY GERMAN SUBMARINE, POSITION ACCURACY 3-5',\n",
    "         'NO.860; CARGO, 3779 GT,SUNK 1942 BY SUBMARINE; POSITION ACCURACY 1-3',\n",
    "         'NO.4619; CARGO, 4834 GT,SUNK 4/16/42 BY SUBMARINE, POSITION ACCURACY 3-5',\n",
    "         'NO.4624; CARGO, 1698 GT,SUNK 3/16/42 BY SUBMARINE; POSITION ACCURACY 3-5']\n",
    "\n",
    "# Print the lines that contain the pattern.\n",
    "for line in lines:\n",
    "    if p.search(line):\n",
    "        print(line)\n",
    "\n",
    "# Print only the part of the line that matches the pattern.        \n",
    "print(72*'-')        \n",
    "for line in lines:\n",
    "    s = p.search(line)\n",
    "    if s:  # Evaluates to True if s is non-empty.\n",
    "        print(s.group())\n",
    "\n",
    "# Same as the preceding, only using an assignment expression (the walrus)\n",
    "# which is new in Python 3.8.\n",
    "print(72*'-')        \n",
    "for line in lines:        \n",
    "    if (s := p.search(line)):  # I am the walrus!  This is an assignment expression; \n",
    "        print(s.group())       # it assigns s a value and uses it in the if statement."
   ]
  },
  {
   "cell_type": "markdown",
   "metadata": {},
   "source": [
    "In your map, you should use the <code>group()</code> method to capture the pattern and add this information to your popup string.\n",
    "\n",
    "**NB:** some rows are missing a <code>HISTORY</code> field so that are NaNs in the Pandas dataframe.  You will need to check that you are dealing with a string before searching for the pattern:"
   ]
  },
  {
   "cell_type": "code",
   "execution_count": null,
   "metadata": {},
   "outputs": [],
   "source": [
    "# Here are some things to search (or not).\n",
    "lines = ['(SOURCE UNK); POSITION ACCURACY 1 MILE; WD CLEAR TO 36 FT REPORTED'\n",
    "         'NO.1596; TRAWLER; POSITION ACCURACY WITHIN 1 MILE.',\n",
    "         'NO.436; POSITION ACCURACY WITHIN 1 MILE AT 35-13-30N, 75-11-42W;',\n",
    "         'NO.1633; POSITION ACCURACY WITHIN 1 MILE',\n",
    "          float('NaN'),\n",
    "         'NO.4623; CARGO, 7874 GT,SUNK 3/7/42 BY GERMAN SUBMARINE, POSITION ACCURACY 3-5',\n",
    "         'NO.860; CARGO, 3779 GT,SUNK 1942 BY SUBMARINE; POSITION ACCURACY 1-3',\n",
    "         'NO.4619; CARGO, 4834 GT,SUNK 4/16/42 BY SUBMARINE, POSITION ACCURACY 3-5',\n",
    "         'NO.4624; CARGO, 1698 GT,SUNK 3/16/42 BY SUBMARINE; POSITION ACCURACY 3-5']\n",
    "\n",
    "# Print the lines that contain the pattern.\n",
    "for line in lines:\n",
    "    print(line)\n",
    "    if p.search(line):  # Oops!\n",
    "        print(line)"
   ]
  },
  {
   "cell_type": "code",
   "execution_count": null,
   "metadata": {
    "scrolled": true
   },
   "outputs": [],
   "source": [
    "# Here are some things to search (or not).\n",
    "lines = ['(SOURCE UNK); POSITION ACCURACY 1 MILE; WD CLEAR TO 36 FT REPORTED'\n",
    "         'NO.1596; TRAWLER; POSITION ACCURACY WITHIN 1 MILE.',\n",
    "         'NO.436; POSITION ACCURACY WITHIN 1 MILE AT 35-13-30N, 75-11-42W;',\n",
    "         'NO.1633; POSITION ACCURACY WITHIN 1 MILE',\n",
    "          float('nan'),\n",
    "         'NO.4623; CARGO, 7874 GT,SUNK 3/7/42 BY GERMAN SUBMARINE, POSITION ACCURACY 3-5',\n",
    "         'NO.860; CARGO, 3779 GT,SUNK 1942 BY SUBMARINE; POSITION ACCURACY 1-3',\n",
    "         'NO.4619; CARGO, 4834 GT,SUNK 4/16/42 BY SUBMARINE, POSITION ACCURACY 3-5',\n",
    "         'NO.4624; CARGO, 1698 GT,SUNK 3/16/42 BY SUBMARINE; POSITION ACCURACY 3-5']\n",
    "\n",
    "# Print the lines that contain the pattern.\n",
    "for line in lines:\n",
    "    if isinstance(line, str) and p.search(line):\n",
    "        print(line)"
   ]
  },
  {
   "cell_type": "markdown",
   "metadata": {},
   "source": [
    "### The marker cluster\n",
    "\n",
    "Your map should have one marker cluster, one for the vessels **not** sunk by submarines.  The markers for those sunk by submarines should not be clustered."
   ]
  },
  {
   "cell_type": "code",
   "execution_count": null,
   "metadata": {
    "scrolled": true
   },
   "outputs": [],
   "source": [
    "  "
   ]
  },
  {
   "cell_type": "markdown",
   "metadata": {},
   "source": [
    "## What you should submit\n",
    "\n",
    "Upload your Jupyter notebook <code>awois.ipynb</code> to the Blackboard site."
   ]
  }
 ],
 "metadata": {
  "anaconda-cloud": {},
  "kernelspec": {
   "display_name": "Python 3",
   "language": "python",
   "name": "python3"
  },
  "language_info": {
   "codemirror_mode": {
    "name": "ipython",
    "version": 3
   },
   "file_extension": ".py",
   "mimetype": "text/x-python",
   "name": "python",
   "nbconvert_exporter": "python",
   "pygments_lexer": "ipython3",
   "version": "3.8.3"
  }
 },
 "nbformat": 4,
 "nbformat_minor": 2
}
